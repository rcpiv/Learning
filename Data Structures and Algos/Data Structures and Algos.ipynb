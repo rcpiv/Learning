{
 "cells": [
  {
   "cell_type": "markdown",
   "id": "b477e3cb",
   "metadata": {},
   "source": [
    "# Recursion\n",
    "### What is recursion\n",
    "- Solving a problem by having a function call itself\n",
    "- Same operation many times with different inputs\n",
    "- Make problem smaller with smaller inputs\n",
    "- Base condition needed to stop the recursion\n",
    "### When to use recursion\n",
    "### If the sub-problem is similar to the main problem\n",
    "- Design an algorithm to compute...\n",
    "- Write code to list the n...\n",
    "- Prominent usage for certain data types\n",
    "- Used inside many algorithms\n",
    "### How it works\n",
    "#### Basic syntax\n",
    "- Calls itself\n",
    "- Exits infinite loop"
   ]
  },
  {
   "cell_type": "code",
   "execution_count": 5,
   "id": "eee01a6c",
   "metadata": {},
   "outputs": [
    {
     "name": "stdout",
     "output_type": "stream",
     "text": [
      "n is less than 1\n",
      "1\n",
      "2\n",
      "3\n"
     ]
    }
   ],
   "source": [
    "def recursiveMethod(n):\n",
    "    if n<1:\n",
    "        print('n is less than 1')\n",
    "    else:\n",
    "        recursiveMethod(n-1)\n",
    "        print(n)\n",
    "recursiveMethod(3)"
   ]
  },
  {
   "cell_type": "code",
   "execution_count": null,
   "id": "a6c42354",
   "metadata": {},
   "outputs": [],
   "source": []
  }
 ],
 "metadata": {
  "kernelspec": {
   "display_name": "Python 3 (ipykernel)",
   "language": "python",
   "name": "python3"
  },
  "language_info": {
   "codemirror_mode": {
    "name": "ipython",
    "version": 3
   },
   "file_extension": ".py",
   "mimetype": "text/x-python",
   "name": "python",
   "nbconvert_exporter": "python",
   "pygments_lexer": "ipython3",
   "version": "3.9.12"
  }
 },
 "nbformat": 4,
 "nbformat_minor": 5
}
